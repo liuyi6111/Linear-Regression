{
 "cells": [
  {
   "cell_type": "markdown",
   "metadata": {},
   "source": [
    "## 一、项目背景介绍    \n",
    "&emsp;&emsp;力争2030年前实现碳达峰、2060年前实现碳中和，是以习近平同志为核心的党中央统筹国内国际两个大局作出的重大战略决策，是着力解决资源环境约束突出问题、实现中华民族永续发展的必然选择，是构建人类命运共同体的庄严承诺。对碳排放数据进行分析和预测，是精准实施个性化减排政策的重要决策依据。我们可以通过对全国各区县之前各年份碳排放量进行建模，来预测未来的碳排放量。"
   ]
  },
  {
   "cell_type": "markdown",
   "metadata": {},
   "source": [
    "## 二、数据介绍      \n",
    "&emsp;&emsp;本项目使用的是《中国县区碳排放数据（1997-2017年2735县区，根据2010年中国区划）》。排放清单根据中国统计局最新能源数据修订版（2015年）编制。由于方法的不同，采用表观排放量核算法和部门法得出的结果有时略有不同。    \n",
    "&emsp;&emsp;数据集来自飞桨开源平台：https://aistudio.baidu.com/aistudio/datasetdetail/121687    \n",
    "&emsp;&emsp;平台提供了数据下载，但是没有给出链接，在这里采用直接点击下载的方式下载使用。"
   ]
  },
  {
   "cell_type": "code",
   "execution_count": 1,
   "metadata": {},
   "outputs": [],
   "source": [
    "import pandas as pd\n",
    "import numpy as np\n",
    "import matplotlib.pyplot as plt\n",
    "import seaborn as sns\n",
    "import scipy.stats as st\n",
    "import random"
   ]
  },
  {
   "cell_type": "code",
   "execution_count": 4,
   "metadata": {},
   "outputs": [],
   "source": [
    "# 读取数据\n",
    "country_data = pd.read_excel('C:/Users/lenovo/Desktop/202202飞桨/3、1997-2017年中国县区碳排放数据.xlsx')"
   ]
  },
  {
   "cell_type": "markdown",
   "metadata": {},
   "source": [
    "&emsp;&emsp;首先查看一下原始数据。数据的各列分别为省、市、区县名及碳排放量数据。比较有特点的是，碳排放量将每一个具体的年份作为特征，放在列名中，形成一张“宽”表；而不是把所有年份放在一列，通过具体的年份数字来区分。"
   ]
  },
  {
   "cell_type": "code",
   "execution_count": 5,
   "metadata": {},
   "outputs": [
    {
     "data": {
      "text/html": [
       "<div>\n",
       "<style scoped>\n",
       "    .dataframe tbody tr th:only-of-type {\n",
       "        vertical-align: middle;\n",
       "    }\n",
       "\n",
       "    .dataframe tbody tr th {\n",
       "        vertical-align: top;\n",
       "    }\n",
       "\n",
       "    .dataframe thead th {\n",
       "        text-align: right;\n",
       "    }\n",
       "</style>\n",
       "<table border=\"1\" class=\"dataframe\">\n",
       "  <thead>\n",
       "    <tr style=\"text-align: right;\">\n",
       "      <th></th>\n",
       "      <th>DISTCODE地区代码</th>\n",
       "      <th>County Name</th>\n",
       "      <th>County Name.1</th>\n",
       "      <th>City Name</th>\n",
       "      <th>City Name.1</th>\n",
       "      <th>Province Name</th>\n",
       "      <th>Province Name.1</th>\n",
       "      <th>C1997</th>\n",
       "      <th>C1998</th>\n",
       "      <th>C1999</th>\n",
       "      <th>...</th>\n",
       "      <th>C2008</th>\n",
       "      <th>C2009</th>\n",
       "      <th>C2010</th>\n",
       "      <th>C2011</th>\n",
       "      <th>C2012</th>\n",
       "      <th>C2013</th>\n",
       "      <th>C2014</th>\n",
       "      <th>C2015</th>\n",
       "      <th>C2016</th>\n",
       "      <th>C2017</th>\n",
       "    </tr>\n",
       "  </thead>\n",
       "  <tbody>\n",
       "    <tr>\n",
       "      <th>0</th>\n",
       "      <td>340102</td>\n",
       "      <td>瑶海区</td>\n",
       "      <td>Yaohai District</td>\n",
       "      <td>合肥市</td>\n",
       "      <td>Hefei City</td>\n",
       "      <td>安徽省</td>\n",
       "      <td>Anhui Province</td>\n",
       "      <td>1.630068</td>\n",
       "      <td>1.538689</td>\n",
       "      <td>1.624000</td>\n",
       "      <td>...</td>\n",
       "      <td>3.371323</td>\n",
       "      <td>3.671851</td>\n",
       "      <td>3.990198</td>\n",
       "      <td>4.329686</td>\n",
       "      <td>4.348723</td>\n",
       "      <td>4.260311</td>\n",
       "      <td>4.180913</td>\n",
       "      <td>3.761643</td>\n",
       "      <td>3.755699</td>\n",
       "      <td>3.530521</td>\n",
       "    </tr>\n",
       "    <tr>\n",
       "      <th>1</th>\n",
       "      <td>340103</td>\n",
       "      <td>庐阳区</td>\n",
       "      <td>Luyang District</td>\n",
       "      <td>合肥市</td>\n",
       "      <td>Hefei City</td>\n",
       "      <td>安徽省</td>\n",
       "      <td>Anhui Province</td>\n",
       "      <td>1.192053</td>\n",
       "      <td>1.107413</td>\n",
       "      <td>1.170043</td>\n",
       "      <td>...</td>\n",
       "      <td>2.550246</td>\n",
       "      <td>2.777581</td>\n",
       "      <td>2.990014</td>\n",
       "      <td>3.171642</td>\n",
       "      <td>3.184190</td>\n",
       "      <td>3.119548</td>\n",
       "      <td>3.144285</td>\n",
       "      <td>2.883247</td>\n",
       "      <td>2.958616</td>\n",
       "      <td>2.908487</td>\n",
       "    </tr>\n",
       "    <tr>\n",
       "      <th>2</th>\n",
       "      <td>340104</td>\n",
       "      <td>蜀山区</td>\n",
       "      <td>Shushan District</td>\n",
       "      <td>合肥市</td>\n",
       "      <td>Hefei City</td>\n",
       "      <td>安徽省</td>\n",
       "      <td>Anhui Province</td>\n",
       "      <td>1.818297</td>\n",
       "      <td>1.692765</td>\n",
       "      <td>1.734692</td>\n",
       "      <td>...</td>\n",
       "      <td>4.180137</td>\n",
       "      <td>4.552764</td>\n",
       "      <td>4.888732</td>\n",
       "      <td>5.195696</td>\n",
       "      <td>5.218322</td>\n",
       "      <td>5.111806</td>\n",
       "      <td>4.963425</td>\n",
       "      <td>4.458935</td>\n",
       "      <td>4.437808</td>\n",
       "      <td>4.163056</td>\n",
       "    </tr>\n",
       "    <tr>\n",
       "      <th>3</th>\n",
       "      <td>340111</td>\n",
       "      <td>包河区</td>\n",
       "      <td>Baohe District</td>\n",
       "      <td>合肥市</td>\n",
       "      <td>Hefei City</td>\n",
       "      <td>安徽省</td>\n",
       "      <td>Anhui Province</td>\n",
       "      <td>1.557845</td>\n",
       "      <td>1.459316</td>\n",
       "      <td>1.477286</td>\n",
       "      <td>...</td>\n",
       "      <td>3.123715</td>\n",
       "      <td>3.423478</td>\n",
       "      <td>3.684567</td>\n",
       "      <td>4.145091</td>\n",
       "      <td>4.160545</td>\n",
       "      <td>4.091217</td>\n",
       "      <td>4.140434</td>\n",
       "      <td>3.792264</td>\n",
       "      <td>3.827954</td>\n",
       "      <td>3.682674</td>\n",
       "    </tr>\n",
       "    <tr>\n",
       "      <th>4</th>\n",
       "      <td>340121</td>\n",
       "      <td>长丰县</td>\n",
       "      <td>Changfeng County</td>\n",
       "      <td>合肥市</td>\n",
       "      <td>Hefei City</td>\n",
       "      <td>安徽省</td>\n",
       "      <td>Anhui Province</td>\n",
       "      <td>1.488242</td>\n",
       "      <td>1.471248</td>\n",
       "      <td>1.520304</td>\n",
       "      <td>...</td>\n",
       "      <td>4.413437</td>\n",
       "      <td>4.808134</td>\n",
       "      <td>5.275954</td>\n",
       "      <td>5.982387</td>\n",
       "      <td>6.481649</td>\n",
       "      <td>6.583311</td>\n",
       "      <td>6.956167</td>\n",
       "      <td>6.673773</td>\n",
       "      <td>7.097350</td>\n",
       "      <td>7.081446</td>\n",
       "    </tr>\n",
       "  </tbody>\n",
       "</table>\n",
       "<p>5 rows × 28 columns</p>\n",
       "</div>"
      ],
      "text/plain": [
       "  DISTCODE地区代码 County Name     County Name.1 City Name City Name.1  \\\n",
       "0       340102         瑶海区   Yaohai District       合肥市  Hefei City   \n",
       "1       340103         庐阳区   Luyang District       合肥市  Hefei City   \n",
       "2       340104         蜀山区  Shushan District       合肥市  Hefei City   \n",
       "3       340111         包河区    Baohe District       合肥市  Hefei City   \n",
       "4       340121         长丰县  Changfeng County       合肥市  Hefei City   \n",
       "\n",
       "  Province Name Province Name.1     C1997     C1998     C1999  ...     C2008  \\\n",
       "0           安徽省  Anhui Province  1.630068  1.538689  1.624000  ...  3.371323   \n",
       "1           安徽省  Anhui Province  1.192053  1.107413  1.170043  ...  2.550246   \n",
       "2           安徽省  Anhui Province  1.818297  1.692765  1.734692  ...  4.180137   \n",
       "3           安徽省  Anhui Province  1.557845  1.459316  1.477286  ...  3.123715   \n",
       "4           安徽省  Anhui Province  1.488242  1.471248  1.520304  ...  4.413437   \n",
       "\n",
       "      C2009     C2010     C2011     C2012     C2013     C2014     C2015  \\\n",
       "0  3.671851  3.990198  4.329686  4.348723  4.260311  4.180913  3.761643   \n",
       "1  2.777581  2.990014  3.171642  3.184190  3.119548  3.144285  2.883247   \n",
       "2  4.552764  4.888732  5.195696  5.218322  5.111806  4.963425  4.458935   \n",
       "3  3.423478  3.684567  4.145091  4.160545  4.091217  4.140434  3.792264   \n",
       "4  4.808134  5.275954  5.982387  6.481649  6.583311  6.956167  6.673773   \n",
       "\n",
       "      C2016     C2017  \n",
       "0  3.755699  3.530521  \n",
       "1  2.958616  2.908487  \n",
       "2  4.437808  4.163056  \n",
       "3  3.827954  3.682674  \n",
       "4  7.097350  7.081446  \n",
       "\n",
       "[5 rows x 28 columns]"
      ]
     },
     "execution_count": 5,
     "metadata": {},
     "output_type": "execute_result"
    }
   ],
   "source": [
    "country_data.head()"
   ]
  },
  {
   "cell_type": "markdown",
   "metadata": {},
   "source": [
    "&emsp;&emsp;然后查看一下数据信息和统计信息。可以看出数据非常干净，没有缺失，碳排放量数据全部为数值，没有特殊符号。"
   ]
  },
  {
   "cell_type": "code",
   "execution_count": 6,
   "metadata": {},
   "outputs": [
    {
     "name": "stdout",
     "output_type": "stream",
     "text": [
      "<class 'pandas.core.frame.DataFrame'>\n",
      "RangeIndex: 2735 entries, 0 to 2734\n",
      "Data columns (total 28 columns):\n",
      " #   Column           Non-Null Count  Dtype  \n",
      "---  ------           --------------  -----  \n",
      " 0   DISTCODE地区代码     2735 non-null   object \n",
      " 1   County Name      2735 non-null   object \n",
      " 2   County Name.1    2735 non-null   object \n",
      " 3   City Name        2735 non-null   object \n",
      " 4   City Name.1      2735 non-null   object \n",
      " 5   Province Name    2735 non-null   object \n",
      " 6   Province Name.1  2735 non-null   object \n",
      " 7   C1997            2735 non-null   float64\n",
      " 8   C1998            2735 non-null   float64\n",
      " 9   C1999            2735 non-null   float64\n",
      " 10  C2000            2735 non-null   float64\n",
      " 11  C2001            2735 non-null   float64\n",
      " 12  C2002            2735 non-null   float64\n",
      " 13  C2003            2735 non-null   float64\n",
      " 14  C2004            2735 non-null   float64\n",
      " 15  C2005            2735 non-null   float64\n",
      " 16  C2006            2735 non-null   float64\n",
      " 17  C2007            2735 non-null   float64\n",
      " 18  C2008            2735 non-null   float64\n",
      " 19  C2009            2735 non-null   float64\n",
      " 20  C2010            2735 non-null   float64\n",
      " 21  C2011            2735 non-null   float64\n",
      " 22  C2012            2735 non-null   float64\n",
      " 23  C2013            2735 non-null   float64\n",
      " 24  C2014            2735 non-null   float64\n",
      " 25  C2015            2735 non-null   float64\n",
      " 26  C2016            2735 non-null   float64\n",
      " 27  C2017            2735 non-null   float64\n",
      "dtypes: float64(21), object(7)\n",
      "memory usage: 598.4+ KB\n",
      "None\n"
     ]
    },
    {
     "data": {
      "text/html": [
       "<div>\n",
       "<style scoped>\n",
       "    .dataframe tbody tr th:only-of-type {\n",
       "        vertical-align: middle;\n",
       "    }\n",
       "\n",
       "    .dataframe tbody tr th {\n",
       "        vertical-align: top;\n",
       "    }\n",
       "\n",
       "    .dataframe thead th {\n",
       "        text-align: right;\n",
       "    }\n",
       "</style>\n",
       "<table border=\"1\" class=\"dataframe\">\n",
       "  <thead>\n",
       "    <tr style=\"text-align: right;\">\n",
       "      <th></th>\n",
       "      <th>C1997</th>\n",
       "      <th>C1998</th>\n",
       "      <th>C1999</th>\n",
       "      <th>C2000</th>\n",
       "      <th>C2001</th>\n",
       "      <th>C2002</th>\n",
       "      <th>C2003</th>\n",
       "      <th>C2004</th>\n",
       "      <th>C2005</th>\n",
       "      <th>C2006</th>\n",
       "      <th>...</th>\n",
       "      <th>C2008</th>\n",
       "      <th>C2009</th>\n",
       "      <th>C2010</th>\n",
       "      <th>C2011</th>\n",
       "      <th>C2012</th>\n",
       "      <th>C2013</th>\n",
       "      <th>C2014</th>\n",
       "      <th>C2015</th>\n",
       "      <th>C2016</th>\n",
       "      <th>C2017</th>\n",
       "    </tr>\n",
       "  </thead>\n",
       "  <tbody>\n",
       "    <tr>\n",
       "      <th>count</th>\n",
       "      <td>2.735000e+03</td>\n",
       "      <td>2.735000e+03</td>\n",
       "      <td>2.735000e+03</td>\n",
       "      <td>2.735000e+03</td>\n",
       "      <td>2.735000e+03</td>\n",
       "      <td>2.735000e+03</td>\n",
       "      <td>2.735000e+03</td>\n",
       "      <td>2.735000e+03</td>\n",
       "      <td>2.735000e+03</td>\n",
       "      <td>2.735000e+03</td>\n",
       "      <td>...</td>\n",
       "      <td>2.735000e+03</td>\n",
       "      <td>2.735000e+03</td>\n",
       "      <td>2735.000000</td>\n",
       "      <td>2735.000000</td>\n",
       "      <td>2735.000000</td>\n",
       "      <td>2735.000000</td>\n",
       "      <td>2735.000000</td>\n",
       "      <td>2735.000000</td>\n",
       "      <td>2735.000000</td>\n",
       "      <td>2735.000000</td>\n",
       "    </tr>\n",
       "    <tr>\n",
       "      <th>mean</th>\n",
       "      <td>1.132310e+00</td>\n",
       "      <td>9.981466e-01</td>\n",
       "      <td>1.094239e+00</td>\n",
       "      <td>1.153700e+00</td>\n",
       "      <td>1.161458e+00</td>\n",
       "      <td>1.256806e+00</td>\n",
       "      <td>1.480538e+00</td>\n",
       "      <td>1.649662e+00</td>\n",
       "      <td>1.964944e+00</td>\n",
       "      <td>2.208331e+00</td>\n",
       "      <td>...</td>\n",
       "      <td>2.531056e+00</td>\n",
       "      <td>2.729384e+00</td>\n",
       "      <td>2.987684</td>\n",
       "      <td>3.335026</td>\n",
       "      <td>3.403462</td>\n",
       "      <td>3.421743</td>\n",
       "      <td>3.494318</td>\n",
       "      <td>3.301554</td>\n",
       "      <td>3.403800</td>\n",
       "      <td>3.466910</td>\n",
       "    </tr>\n",
       "    <tr>\n",
       "      <th>std</th>\n",
       "      <td>1.291937e+00</td>\n",
       "      <td>1.179350e+00</td>\n",
       "      <td>1.258753e+00</td>\n",
       "      <td>1.329549e+00</td>\n",
       "      <td>1.305338e+00</td>\n",
       "      <td>1.415608e+00</td>\n",
       "      <td>1.660022e+00</td>\n",
       "      <td>1.839047e+00</td>\n",
       "      <td>2.152650e+00</td>\n",
       "      <td>2.423703e+00</td>\n",
       "      <td>...</td>\n",
       "      <td>2.719357e+00</td>\n",
       "      <td>2.922415e+00</td>\n",
       "      <td>3.156076</td>\n",
       "      <td>3.398220</td>\n",
       "      <td>3.462145</td>\n",
       "      <td>3.369419</td>\n",
       "      <td>3.430163</td>\n",
       "      <td>3.256904</td>\n",
       "      <td>3.360074</td>\n",
       "      <td>3.391923</td>\n",
       "    </tr>\n",
       "    <tr>\n",
       "      <th>min</th>\n",
       "      <td>1.000000e-08</td>\n",
       "      <td>1.000000e-08</td>\n",
       "      <td>1.000000e-08</td>\n",
       "      <td>1.000000e-08</td>\n",
       "      <td>1.000000e-08</td>\n",
       "      <td>1.000000e-08</td>\n",
       "      <td>1.000000e-08</td>\n",
       "      <td>1.000000e-08</td>\n",
       "      <td>1.000000e-08</td>\n",
       "      <td>1.000000e-08</td>\n",
       "      <td>...</td>\n",
       "      <td>1.000000e-08</td>\n",
       "      <td>1.000000e-08</td>\n",
       "      <td>0.002445</td>\n",
       "      <td>0.008021</td>\n",
       "      <td>0.010848</td>\n",
       "      <td>0.018108</td>\n",
       "      <td>0.019116</td>\n",
       "      <td>0.017923</td>\n",
       "      <td>0.018662</td>\n",
       "      <td>0.023066</td>\n",
       "    </tr>\n",
       "    <tr>\n",
       "      <th>25%</th>\n",
       "      <td>3.227336e-01</td>\n",
       "      <td>3.075190e-01</td>\n",
       "      <td>3.336528e-01</td>\n",
       "      <td>3.610818e-01</td>\n",
       "      <td>3.583390e-01</td>\n",
       "      <td>4.041195e-01</td>\n",
       "      <td>4.785132e-01</td>\n",
       "      <td>5.388039e-01</td>\n",
       "      <td>6.523292e-01</td>\n",
       "      <td>7.303886e-01</td>\n",
       "      <td>...</td>\n",
       "      <td>8.514413e-01</td>\n",
       "      <td>9.314739e-01</td>\n",
       "      <td>1.040062</td>\n",
       "      <td>1.200393</td>\n",
       "      <td>1.241170</td>\n",
       "      <td>1.295726</td>\n",
       "      <td>1.312399</td>\n",
       "      <td>1.227927</td>\n",
       "      <td>1.250619</td>\n",
       "      <td>1.277242</td>\n",
       "    </tr>\n",
       "    <tr>\n",
       "      <th>50%</th>\n",
       "      <td>7.935184e-01</td>\n",
       "      <td>7.181670e-01</td>\n",
       "      <td>8.066667e-01</td>\n",
       "      <td>8.520158e-01</td>\n",
       "      <td>8.493330e-01</td>\n",
       "      <td>9.300292e-01</td>\n",
       "      <td>1.079145e+00</td>\n",
       "      <td>1.189021e+00</td>\n",
       "      <td>1.402417e+00</td>\n",
       "      <td>1.573569e+00</td>\n",
       "      <td>...</td>\n",
       "      <td>1.801819e+00</td>\n",
       "      <td>1.945624e+00</td>\n",
       "      <td>2.129255</td>\n",
       "      <td>2.391245</td>\n",
       "      <td>2.456762</td>\n",
       "      <td>2.507209</td>\n",
       "      <td>2.559330</td>\n",
       "      <td>2.411457</td>\n",
       "      <td>2.480445</td>\n",
       "      <td>2.542348</td>\n",
       "    </tr>\n",
       "    <tr>\n",
       "      <th>75%</th>\n",
       "      <td>1.540798e+00</td>\n",
       "      <td>1.294873e+00</td>\n",
       "      <td>1.448600e+00</td>\n",
       "      <td>1.518797e+00</td>\n",
       "      <td>1.572615e+00</td>\n",
       "      <td>1.683885e+00</td>\n",
       "      <td>1.988362e+00</td>\n",
       "      <td>2.227193e+00</td>\n",
       "      <td>2.644979e+00</td>\n",
       "      <td>2.939985e+00</td>\n",
       "      <td>...</td>\n",
       "      <td>3.359305e+00</td>\n",
       "      <td>3.617800e+00</td>\n",
       "      <td>3.977198</td>\n",
       "      <td>4.371520</td>\n",
       "      <td>4.451939</td>\n",
       "      <td>4.448972</td>\n",
       "      <td>4.562726</td>\n",
       "      <td>4.328865</td>\n",
       "      <td>4.462446</td>\n",
       "      <td>4.517797</td>\n",
       "    </tr>\n",
       "    <tr>\n",
       "      <th>max</th>\n",
       "      <td>2.574785e+01</td>\n",
       "      <td>2.513111e+01</td>\n",
       "      <td>2.708281e+01</td>\n",
       "      <td>2.868925e+01</td>\n",
       "      <td>2.716571e+01</td>\n",
       "      <td>2.948750e+01</td>\n",
       "      <td>3.358449e+01</td>\n",
       "      <td>3.669703e+01</td>\n",
       "      <td>4.130571e+01</td>\n",
       "      <td>4.681545e+01</td>\n",
       "      <td>...</td>\n",
       "      <td>4.876720e+01</td>\n",
       "      <td>5.348152e+01</td>\n",
       "      <td>56.428641</td>\n",
       "      <td>54.137138</td>\n",
       "      <td>55.564703</td>\n",
       "      <td>49.253514</td>\n",
       "      <td>49.417978</td>\n",
       "      <td>45.050951</td>\n",
       "      <td>46.075021</td>\n",
       "      <td>44.028280</td>\n",
       "    </tr>\n",
       "  </tbody>\n",
       "</table>\n",
       "<p>8 rows × 21 columns</p>\n",
       "</div>"
      ],
      "text/plain": [
       "              C1997         C1998         C1999         C2000         C2001  \\\n",
       "count  2.735000e+03  2.735000e+03  2.735000e+03  2.735000e+03  2.735000e+03   \n",
       "mean   1.132310e+00  9.981466e-01  1.094239e+00  1.153700e+00  1.161458e+00   \n",
       "std    1.291937e+00  1.179350e+00  1.258753e+00  1.329549e+00  1.305338e+00   \n",
       "min    1.000000e-08  1.000000e-08  1.000000e-08  1.000000e-08  1.000000e-08   \n",
       "25%    3.227336e-01  3.075190e-01  3.336528e-01  3.610818e-01  3.583390e-01   \n",
       "50%    7.935184e-01  7.181670e-01  8.066667e-01  8.520158e-01  8.493330e-01   \n",
       "75%    1.540798e+00  1.294873e+00  1.448600e+00  1.518797e+00  1.572615e+00   \n",
       "max    2.574785e+01  2.513111e+01  2.708281e+01  2.868925e+01  2.716571e+01   \n",
       "\n",
       "              C2002         C2003         C2004         C2005         C2006  \\\n",
       "count  2.735000e+03  2.735000e+03  2.735000e+03  2.735000e+03  2.735000e+03   \n",
       "mean   1.256806e+00  1.480538e+00  1.649662e+00  1.964944e+00  2.208331e+00   \n",
       "std    1.415608e+00  1.660022e+00  1.839047e+00  2.152650e+00  2.423703e+00   \n",
       "min    1.000000e-08  1.000000e-08  1.000000e-08  1.000000e-08  1.000000e-08   \n",
       "25%    4.041195e-01  4.785132e-01  5.388039e-01  6.523292e-01  7.303886e-01   \n",
       "50%    9.300292e-01  1.079145e+00  1.189021e+00  1.402417e+00  1.573569e+00   \n",
       "75%    1.683885e+00  1.988362e+00  2.227193e+00  2.644979e+00  2.939985e+00   \n",
       "max    2.948750e+01  3.358449e+01  3.669703e+01  4.130571e+01  4.681545e+01   \n",
       "\n",
       "       ...         C2008         C2009        C2010        C2011        C2012  \\\n",
       "count  ...  2.735000e+03  2.735000e+03  2735.000000  2735.000000  2735.000000   \n",
       "mean   ...  2.531056e+00  2.729384e+00     2.987684     3.335026     3.403462   \n",
       "std    ...  2.719357e+00  2.922415e+00     3.156076     3.398220     3.462145   \n",
       "min    ...  1.000000e-08  1.000000e-08     0.002445     0.008021     0.010848   \n",
       "25%    ...  8.514413e-01  9.314739e-01     1.040062     1.200393     1.241170   \n",
       "50%    ...  1.801819e+00  1.945624e+00     2.129255     2.391245     2.456762   \n",
       "75%    ...  3.359305e+00  3.617800e+00     3.977198     4.371520     4.451939   \n",
       "max    ...  4.876720e+01  5.348152e+01    56.428641    54.137138    55.564703   \n",
       "\n",
       "             C2013        C2014        C2015        C2016        C2017  \n",
       "count  2735.000000  2735.000000  2735.000000  2735.000000  2735.000000  \n",
       "mean      3.421743     3.494318     3.301554     3.403800     3.466910  \n",
       "std       3.369419     3.430163     3.256904     3.360074     3.391923  \n",
       "min       0.018108     0.019116     0.017923     0.018662     0.023066  \n",
       "25%       1.295726     1.312399     1.227927     1.250619     1.277242  \n",
       "50%       2.507209     2.559330     2.411457     2.480445     2.542348  \n",
       "75%       4.448972     4.562726     4.328865     4.462446     4.517797  \n",
       "max      49.253514    49.417978    45.050951    46.075021    44.028280  \n",
       "\n",
       "[8 rows x 21 columns]"
      ]
     },
     "execution_count": 6,
     "metadata": {},
     "output_type": "execute_result"
    }
   ],
   "source": [
    "print(country_data.info())\n",
    "country_data.describe()"
   ]
  },
  {
   "cell_type": "markdown",
   "metadata": {},
   "source": [
    "&emsp;&emsp;接下来是查看数值的数据分布。这里选取某单列数据来展示。"
   ]
  },
  {
   "cell_type": "code",
   "execution_count": 7,
   "metadata": {},
   "outputs": [
    {
     "name": "stderr",
     "output_type": "stream",
     "text": [
      "C:\\ProgramData\\Anaconda3\\lib\\site-packages\\seaborn\\distributions.py:2551: FutureWarning: `distplot` is a deprecated function and will be removed in a future version. Please adapt your code to use either `displot` (a figure-level function with similar flexibility) or `histplot` (an axes-level function for histograms).\n",
      "  warnings.warn(msg, FutureWarning)\n",
      "C:\\ProgramData\\Anaconda3\\lib\\site-packages\\seaborn\\distributions.py:2551: FutureWarning: `distplot` is a deprecated function and will be removed in a future version. Please adapt your code to use either `displot` (a figure-level function with similar flexibility) or `histplot` (an axes-level function for histograms).\n",
      "  warnings.warn(msg, FutureWarning)\n",
      "C:\\ProgramData\\Anaconda3\\lib\\site-packages\\seaborn\\distributions.py:2551: FutureWarning: `distplot` is a deprecated function and will be removed in a future version. Please adapt your code to use either `displot` (a figure-level function with similar flexibility) or `histplot` (an axes-level function for histograms).\n",
      "  warnings.warn(msg, FutureWarning)\n"
     ]
    },
    {
     "data": {
      "text/plain": [
       "<AxesSubplot:title={'center':'Log Normal'}, xlabel='C2010'>"
      ]
     },
     "execution_count": 7,
     "metadata": {},
     "output_type": "execute_result"
    },
    {
     "data": {
      "image/png": "[encoded data removed]",
      "text/plain": [
       "<Figure size 432x288 with 1 Axes>"
      ]
     },
     "metadata": {
      "needs_background": "light"
     },
     "output_type": "display_data"
    },
    {
     "data": {
      "image/png": "[encoded data removed]",
      "text/plain": [
       "<Figure size 432x288 with 1 Axes>"
      ]
     },
     "metadata": {
      "needs_background": "light"
     },
     "output_type": "display_data"
    },
    {
     "data": {
      "image/png": "[encoded data removed]",
      "text/plain": [
       "<Figure size 432x288 with 1 Axes>"
      ]
     },
     "metadata": {
      "needs_background": "light"
     },
     "output_type": "display_data"
    }
   ],
   "source": [
    "# 随机选取2010年数据，碳排放不服从正态分配，对数变换与无界约翰逊均拟合较好\n",
    "y = country_data['C2010']\n",
    "plt.figure(1); plt.title('Johnson SU')\n",
    "sns.distplot(y, kde=False, fit=st.johnsonsu)\n",
    "plt.figure(2); plt.title('Normal')\n",
    "sns.distplot(y, kde=False, fit=st.norm)\n",
    "plt.figure(3); plt.title('Log Normal')\n",
    "sns.distplot(y, kde=False, fit=st.lognorm)"
   ]
  },
  {
   "cell_type": "markdown",
   "metadata": {},
   "source": [
    "## 三、模型介绍       \n",
    "&emsp;&emsp;这是一个对连续变量的处理和预测，很明显属于回归类问题。\n",
    "&emsp;&emsp;回归这个概念是19世纪80年代由英国统计学家郎西斯.高尔顿在研究父子身高关系提出来的，他发现：在同一族群中，子代的平均身高介于父代的身高以及族群的平均身高之间。具体而言，高个子父亲的儿子的身高有低于其父亲身高的趋势，而矮个子父亲的儿子身高则有高于父亲的身高的趋势。也就是说，子代的身高有向族群平均身高\"平均\"的趋势，这就是统计学上\"回归\"的最初含义。回归分析是一种预测性的建模技术，它研究的是因变量（目标）和自变量（特征）之间的关系。这种技术通常用于预测分析，时间序列模型以及发现变量之间的因果关系。通常使用曲线/线来拟合数据点，目标是使曲线到数据点的距离差异最小。    \n",
    "&emsp;&emsp;目前常用的回归模型有Linear Regression线性回归、Decision Tree Regressor决策树回归、XGBoost回归等。在各类竞赛中，决策树与xgboost使用较为广泛；而在实际工程应用中，线性回归及其各种改进算法因为资源消耗少、速度快、泛化性好等原因而使用更为广泛。"
   ]
  },
  {
   "cell_type": "markdown",
   "metadata": {},
   "source": [
    "&emsp;&emsp;本项目使用的数据集可以看作一种时序数据，自变量（之前各年碳排放）与因变量（预测年度碳排放）之间根据时序数据特性可知具有线性相关的特点。而且碳排放预测这个选题本身，对模型的泛化性能有一定要求。综合各方面因素，我们选取线性回归模型来进行预测。"
   ]
  },
  {
   "cell_type": "markdown",
   "metadata": {},
   "source": [
    "&emsp;&emsp;线性回归假设目标值与特征之间线性相关，即满足一个多元一次方程。通过构建损失函数，来求解损失函数最小时的参数w ：                                                \n",
    "&emsp;&emsp;假设：数据集$D = \\{(x_1,y_1),...,(x_N,y_N) \\}$，$x_i \\in R^p,y_i \\in R,i = 1,2,...,N$，$X = (x_1,x_2,...,x_N)^T,Y=(y_1,y_2,...,y_N)^T$                        \n",
    "&emsp;&emsp;假设X和Y之间存在线性关系，模型的具体形式为$\\hat{y}=f(w) =w^Tx$           \n",
    "   ![jupyter](./1.4.png)      \n",
    "&emsp;&emsp;(a) 最小二乘估计：                 \n",
    "&emsp;&emsp;我们需要衡量真实值$y_i$与线性回归模型的预测值$w^Tx_i$之间的差距，在这里我们和使用二范数的平方和L(w)来描述这种差距，即：                      \n",
    "   $$\n",
    "   L(w) = \\sum\\limits_{i=1}^{N}||w^Tx_i-y_i||_2^2=\\sum\\limits_{i=1}^{N}(w^Tx_i-y_i)^2 = (w^TX^T-Y^T)(w^TX^T-Y^T)^T = w^TX^TXw - 2w^TX^TY+YY^T\\\\\n",
    "   因此，我们需要找到使得L(w)最小时对应的参数w，即：\\\\\n",
    "   \\hat{w} = argmin\\;L(w)\\\\\n",
    "   为了达到求解最小化L(w)问题，我们应用高等数学的知识，使用求导来解决这个问题： \\\\\n",
    "   \\frac{\\partial L(w)}{\\partial w} = 2X^TXw-2X^TY = 0,因此： \\\\\n",
    "   \\hat{w} = (X^TX)^{-1}X^TY\n",
    "   $$                      \n",
    "&emsp;&emsp;(b) 几何解释：                \n",
    "&emsp;&emsp;在线性代数中，我们知道两个向量a和b相互垂直可以得出：$<a,b> = a.b = a^Tb = 0$,而平面X的法向量为Y-Xw，与平面X互相垂直，因此：$X^T(Y-Xw) = 0$，即：$w = (X^TX)^{-1}X^TY$                             \n",
    "   ![jupyter](./1.5.png)               \n",
    "&emsp;&emsp;(c) 概率视角：       \n",
    "&emsp;&emsp;假设噪声$\\epsilon \\backsim N(0,\\sigma^2),y=f(w)+\\epsilon=w^Tx+\\epsilon$，因此：$y|x_i,w ~ N(w^Tx,\\sigma^2)$          \n",
    "&emsp;&emsp;我们使用极大似然估计MLE对参数w进行估计：       \n",
    "   $$\n",
    "   L(w) = log\\;P(Y|X;w) = log\\;\\prod_{i=1}^N P(y_i|x_i;w) = \\sum\\limits_{i=1}^{N} log\\; P(y_i|x_i;w)\\\\\n",
    "    = \\sum\\limits_{i=1}^{N}log(\\frac{1}{\\sqrt{2\\pi \\sigma}}exp(-\\frac{(y_i-w^Tx_i)^2}{2\\sigma^2})) = \\sum\\limits_{i=1}^{N}[log(\\frac{1}{\\sqrt{2\\pi}\\sigma})-\\frac{1}{2\\sigma^2}(y_i-w^Tx_i)^2] \\\\\n",
    "    argmax_w L(w) = argmin_w[l(w) = \\sum\\limits_{i = 1}^{N}(y_i-w^Tx_i)^2]\\\\\n",
    "    因此：线性回归的最小二乘估计<==>噪声\\epsilon\\backsim N(0,\\sigma^2)的极大似然估计\n",
    "   $$"
   ]
  },
  {
   "cell_type": "markdown",
   "metadata": {},
   "source": [
    "## 四、模型训练    \n",
    "&emsp;&emsp;在进行建模前，需要选取数据的特征列，丢弃对模型无用的列。这一步骤同时也具有脱敏的作用，可以避免敏感数据被窃取。"
   ]
  },
  {
   "cell_type": "code",
   "execution_count": 8,
   "metadata": {},
   "outputs": [
    {
     "data": {
      "text/plain": [
       "Index(['DISTCODE地区代码', 'County Name', 'County Name.1', 'City Name',\n",
       "       'City Name.1', 'Province Name', 'Province Name.1', 'C1997', 'C1998',\n",
       "       'C1999', 'C2000', 'C2001', 'C2002', 'C2003', 'C2004', 'C2005', 'C2006',\n",
       "       'C2007', 'C2008', 'C2009', 'C2010', 'C2011', 'C2012', 'C2013', 'C2014',\n",
       "       'C2015', 'C2016', 'C2017'],\n",
       "      dtype='object')"
      ]
     },
     "execution_count": 8,
     "metadata": {},
     "output_type": "execute_result"
    }
   ],
   "source": [
    "country_data.columns"
   ]
  },
  {
   "cell_type": "code",
   "execution_count": 9,
   "metadata": {},
   "outputs": [
    {
     "data": {
      "text/html": [
       "<div>\n",
       "<style scoped>\n",
       "    .dataframe tbody tr th:only-of-type {\n",
       "        vertical-align: middle;\n",
       "    }\n",
       "\n",
       "    .dataframe tbody tr th {\n",
       "        vertical-align: top;\n",
       "    }\n",
       "\n",
       "    .dataframe thead th {\n",
       "        text-align: right;\n",
       "    }\n",
       "</style>\n",
       "<table border=\"1\" class=\"dataframe\">\n",
       "  <thead>\n",
       "    <tr style=\"text-align: right;\">\n",
       "      <th></th>\n",
       "      <th>DISTCODE地区代码</th>\n",
       "      <th>C1997</th>\n",
       "      <th>C1998</th>\n",
       "      <th>C1999</th>\n",
       "      <th>C2000</th>\n",
       "      <th>C2001</th>\n",
       "      <th>C2002</th>\n",
       "      <th>C2003</th>\n",
       "      <th>C2004</th>\n",
       "      <th>C2005</th>\n",
       "      <th>...</th>\n",
       "      <th>C2008</th>\n",
       "      <th>C2009</th>\n",
       "      <th>C2010</th>\n",
       "      <th>C2011</th>\n",
       "      <th>C2012</th>\n",
       "      <th>C2013</th>\n",
       "      <th>C2014</th>\n",
       "      <th>C2015</th>\n",
       "      <th>C2016</th>\n",
       "      <th>C2017</th>\n",
       "    </tr>\n",
       "  </thead>\n",
       "  <tbody>\n",
       "    <tr>\n",
       "      <th>0</th>\n",
       "      <td>340102</td>\n",
       "      <td>1.630068</td>\n",
       "      <td>1.538689</td>\n",
       "      <td>1.624000</td>\n",
       "      <td>1.708943</td>\n",
       "      <td>1.626726</td>\n",
       "      <td>1.769345</td>\n",
       "      <td>2.032668</td>\n",
       "      <td>2.224802</td>\n",
       "      <td>2.633549</td>\n",
       "      <td>...</td>\n",
       "      <td>3.371323</td>\n",
       "      <td>3.671851</td>\n",
       "      <td>3.990198</td>\n",
       "      <td>4.329686</td>\n",
       "      <td>4.348723</td>\n",
       "      <td>4.260311</td>\n",
       "      <td>4.180913</td>\n",
       "      <td>3.761643</td>\n",
       "      <td>3.755699</td>\n",
       "      <td>3.530521</td>\n",
       "    </tr>\n",
       "    <tr>\n",
       "      <th>1</th>\n",
       "      <td>340103</td>\n",
       "      <td>1.192053</td>\n",
       "      <td>1.107413</td>\n",
       "      <td>1.170043</td>\n",
       "      <td>1.264973</td>\n",
       "      <td>1.220263</td>\n",
       "      <td>1.315477</td>\n",
       "      <td>1.533915</td>\n",
       "      <td>1.678670</td>\n",
       "      <td>1.925550</td>\n",
       "      <td>...</td>\n",
       "      <td>2.550246</td>\n",
       "      <td>2.777581</td>\n",
       "      <td>2.990014</td>\n",
       "      <td>3.171642</td>\n",
       "      <td>3.184190</td>\n",
       "      <td>3.119548</td>\n",
       "      <td>3.144285</td>\n",
       "      <td>2.883247</td>\n",
       "      <td>2.958616</td>\n",
       "      <td>2.908487</td>\n",
       "    </tr>\n",
       "    <tr>\n",
       "      <th>2</th>\n",
       "      <td>340104</td>\n",
       "      <td>1.818297</td>\n",
       "      <td>1.692765</td>\n",
       "      <td>1.734692</td>\n",
       "      <td>1.845929</td>\n",
       "      <td>1.770184</td>\n",
       "      <td>2.177641</td>\n",
       "      <td>2.636810</td>\n",
       "      <td>2.892219</td>\n",
       "      <td>3.305631</td>\n",
       "      <td>...</td>\n",
       "      <td>4.180137</td>\n",
       "      <td>4.552764</td>\n",
       "      <td>4.888732</td>\n",
       "      <td>5.195696</td>\n",
       "      <td>5.218322</td>\n",
       "      <td>5.111806</td>\n",
       "      <td>4.963425</td>\n",
       "      <td>4.458935</td>\n",
       "      <td>4.437808</td>\n",
       "      <td>4.163056</td>\n",
       "    </tr>\n",
       "    <tr>\n",
       "      <th>3</th>\n",
       "      <td>340111</td>\n",
       "      <td>1.557845</td>\n",
       "      <td>1.459316</td>\n",
       "      <td>1.477286</td>\n",
       "      <td>1.549583</td>\n",
       "      <td>1.474717</td>\n",
       "      <td>1.602988</td>\n",
       "      <td>1.877636</td>\n",
       "      <td>2.075298</td>\n",
       "      <td>2.443113</td>\n",
       "      <td>...</td>\n",
       "      <td>3.123715</td>\n",
       "      <td>3.423478</td>\n",
       "      <td>3.684567</td>\n",
       "      <td>4.145091</td>\n",
       "      <td>4.160545</td>\n",
       "      <td>4.091217</td>\n",
       "      <td>4.140434</td>\n",
       "      <td>3.792264</td>\n",
       "      <td>3.827954</td>\n",
       "      <td>3.682674</td>\n",
       "    </tr>\n",
       "    <tr>\n",
       "      <th>4</th>\n",
       "      <td>340121</td>\n",
       "      <td>1.488242</td>\n",
       "      <td>1.471248</td>\n",
       "      <td>1.520304</td>\n",
       "      <td>1.620002</td>\n",
       "      <td>1.558837</td>\n",
       "      <td>1.683573</td>\n",
       "      <td>2.063170</td>\n",
       "      <td>2.279415</td>\n",
       "      <td>2.753702</td>\n",
       "      <td>...</td>\n",
       "      <td>4.413437</td>\n",
       "      <td>4.808134</td>\n",
       "      <td>5.275954</td>\n",
       "      <td>5.982387</td>\n",
       "      <td>6.481649</td>\n",
       "      <td>6.583311</td>\n",
       "      <td>6.956167</td>\n",
       "      <td>6.673773</td>\n",
       "      <td>7.097350</td>\n",
       "      <td>7.081446</td>\n",
       "    </tr>\n",
       "  </tbody>\n",
       "</table>\n",
       "<p>5 rows × 22 columns</p>\n",
       "</div>"
      ],
      "text/plain": [
       "  DISTCODE地区代码     C1997     C1998     C1999     C2000     C2001     C2002  \\\n",
       "0       340102  1.630068  1.538689  1.624000  1.708943  1.626726  1.769345   \n",
       "1       340103  1.192053  1.107413  1.170043  1.264973  1.220263  1.315477   \n",
       "2       340104  1.818297  1.692765  1.734692  1.845929  1.770184  2.177641   \n",
       "3       340111  1.557845  1.459316  1.477286  1.549583  1.474717  1.602988   \n",
       "4       340121  1.488242  1.471248  1.520304  1.620002  1.558837  1.683573   \n",
       "\n",
       "      C2003     C2004     C2005  ...     C2008     C2009     C2010     C2011  \\\n",
       "0  2.032668  2.224802  2.633549  ...  3.371323  3.671851  3.990198  4.329686   \n",
       "1  1.533915  1.678670  1.925550  ...  2.550246  2.777581  2.990014  3.171642   \n",
       "2  2.636810  2.892219  3.305631  ...  4.180137  4.552764  4.888732  5.195696   \n",
       "3  1.877636  2.075298  2.443113  ...  3.123715  3.423478  3.684567  4.145091   \n",
       "4  2.063170  2.279415  2.753702  ...  4.413437  4.808134  5.275954  5.982387   \n",
       "\n",
       "      C2012     C2013     C2014     C2015     C2016     C2017  \n",
       "0  4.348723  4.260311  4.180913  3.761643  3.755699  3.530521  \n",
       "1  3.184190  3.119548  3.144285  2.883247  2.958616  2.908487  \n",
       "2  5.218322  5.111806  4.963425  4.458935  4.437808  4.163056  \n",
       "3  4.160545  4.091217  4.140434  3.792264  3.827954  3.682674  \n",
       "4  6.481649  6.583311  6.956167  6.673773  7.097350  7.081446  \n",
       "\n",
       "[5 rows x 22 columns]"
      ]
     },
     "execution_count": 9,
     "metadata": {},
     "output_type": "execute_result"
    }
   ],
   "source": [
    "clean_data = country_data.drop([ 'County Name', 'County Name.1', 'City Name','City Name.1', 'Province Name', 'Province Name.1'],axis=1)\n",
    "clean_data.head()"
   ]
  },
  {
   "cell_type": "code",
   "execution_count": 10,
   "metadata": {},
   "outputs": [],
   "source": [
    "index_data = country_data.set_index('DISTCODE地区代码')\n",
    "feature_names = ['C1997', 'C1998',\n",
    "       'C1999', 'C2000', 'C2001', 'C2002', 'C2003', 'C2004', 'C2005', 'C2006',\n",
    "       'C2007', 'C2008', 'C2009', 'C2010', 'C2011', 'C2012', 'C2013', 'C2014',\n",
    "       'C2015']"
   ]
  },
  {
   "cell_type": "code",
   "execution_count": 11,
   "metadata": {},
   "outputs": [],
   "source": [
    "# 划分训练集和验证集\n",
    "train_X = index_data[feature_names]\n",
    "train_y = index_data['C2016']\n",
    "# 通过之前的观察，发现数值呈长尾分布，且对数分布拟合较好\n",
    "# 对标签进行 log(x+1) 变换，使标签贴近于正态分布\n",
    "train_y_ln = np.log(train_y + 1)"
   ]
  },
  {
   "cell_type": "code",
   "execution_count": 12,
   "metadata": {},
   "outputs": [
    {
     "name": "stdout",
     "output_type": "stream",
     "text": [
      "The transformed price seems like normal distribution\n"
     ]
    },
    {
     "name": "stderr",
     "output_type": "stream",
     "text": [
      "C:\\ProgramData\\Anaconda3\\lib\\site-packages\\seaborn\\distributions.py:2551: FutureWarning: `distplot` is a deprecated function and will be removed in a future version. Please adapt your code to use either `displot` (a figure-level function with similar flexibility) or `histplot` (an axes-level function for histograms).\n",
      "  warnings.warn(msg, FutureWarning)\n",
      "C:\\ProgramData\\Anaconda3\\lib\\site-packages\\seaborn\\distributions.py:2551: FutureWarning: `distplot` is a deprecated function and will be removed in a future version. Please adapt your code to use either `displot` (a figure-level function with similar flexibility) or `histplot` (an axes-level function for histograms).\n",
      "  warnings.warn(msg, FutureWarning)\n"
     ]
    },
    {
     "data": {
      "text/plain": [
       "<AxesSubplot:xlabel='C2016', ylabel='Density'>"
      ]
     },
     "execution_count": 12,
     "metadata": {},
     "output_type": "execute_result"
    },
    {
     "data": {
      "image/png": "[encoded data removed]",
      "text/plain": [
       "<Figure size 1080x360 with 2 Axes>"
      ]
     },
     "metadata": {
      "needs_background": "light"
     },
     "output_type": "display_data"
    }
   ],
   "source": [
    "# 可视化观察标签是否已接近正态分布\n",
    "print('The transformed price seems like normal distribution')\n",
    "plt.figure(figsize=(15,5))\n",
    "plt.subplot(1,2,1)\n",
    "sns.distplot(train_y_ln)\n",
    "plt.subplot(1,2,2)\n",
    "sns.distplot(train_y_ln[train_y_ln < np.quantile(train_y_ln, 0.9)])"
   ]
  },
  {
   "cell_type": "code",
   "execution_count": 13,
   "metadata": {},
   "outputs": [],
   "source": [
    "# 训练模型\n",
    "from sklearn.linear_model import LinearRegression\n",
    "model = LinearRegression(normalize=True)\n",
    "model = model.fit(train_X, train_y_ln)"
   ]
  },
  {
   "cell_type": "code",
   "execution_count": 14,
   "metadata": {},
   "outputs": [
    {
     "name": "stdout",
     "output_type": "stream",
     "text": [
      "intercept:0.6894998827206338\n"
     ]
    },
    {
     "data": {
      "text/plain": [
       "[('C2005', 0.5530320536086845),\n",
       " ('C2009', 0.534142676310093),\n",
       " ('C2007', 0.42734589500768155),\n",
       " ('C1998', 0.36538886635240253),\n",
       " ('C2001', 0.3641681875720356),\n",
       " ('C2015', 0.2524832622960884),\n",
       " ('C2002', 0.24561659372906103),\n",
       " ('C2003', 0.19830305152162012),\n",
       " ('C2011', 0.13406268119446194),\n",
       " ('C2014', 0.11645734032905304),\n",
       " ('C1997', 0.11537544211905906),\n",
       " ('C2013', -0.10568320846850764),\n",
       " ('C2012', -0.1313352317389407),\n",
       " ('C2010', -0.2818998190049563),\n",
       " ('C1999', -0.4335628879938873),\n",
       " ('C2000', -0.4526638952901985),\n",
       " ('C2004', -0.5131275241304893),\n",
       " ('C2008', -0.5281743443830734),\n",
       " ('C2006', -0.6083925576927653)]"
      ]
     },
     "execution_count": 14,
     "metadata": {},
     "output_type": "execute_result"
    }
   ],
   "source": [
    "# 查看截距（intercept）与权重(coef)\n",
    "print('intercept:'+ str(model.intercept_))\n",
    "sorted(dict(zip(feature_names, model.coef_)).items(), key=lambda x:x[1], reverse=True)"
   ]
  },
  {
   "cell_type": "markdown",
   "metadata": {},
   "source": [
    "## 五、模型评估      \n",
    "&emsp;&emsp;我们使用MAE，也即Mean Absolute Error，平均绝对值误差来评估模型的预测效果。MAE值越小，说明模型预测结果越准确。"
   ]
  },
  {
   "cell_type": "code",
   "execution_count": 18,
   "metadata": {},
   "outputs": [],
   "source": [
    "# 五折交叉验证\n",
    "from sklearn.model_selection import cross_val_score\n",
    "from sklearn.metrics import mean_absolute_error,  make_scorer"
   ]
  },
  {
   "cell_type": "code",
   "execution_count": 19,
   "metadata": {},
   "outputs": [],
   "source": [
    "def log_transfer(func):\n",
    "    def wrapper(y, yhat):\n",
    "        result = func(np.log(y), np.nan_to_num(np.log(yhat)))\n",
    "        return result\n",
    "    return wrapper"
   ]
  },
  {
   "cell_type": "code",
   "execution_count": 20,
   "metadata": {},
   "outputs": [
    {
     "name": "stdout",
     "output_type": "stream",
     "text": [
      "AVG: 0.01911357100975749\n"
     ]
    },
    {
     "name": "stderr",
     "output_type": "stream",
     "text": [
      "[Parallel(n_jobs=1)]: Using backend SequentialBackend with 1 concurrent workers.\n",
      "[Parallel(n_jobs=1)]: Done   5 out of   5 | elapsed:    0.0s finished\n"
     ]
    }
   ],
   "source": [
    "# 得到MAE的平均分数\n",
    "scores = cross_val_score(model, X=train_X, y=train_y, verbose=1, cv = 5, scoring=make_scorer(log_transfer(mean_absolute_error)))\n",
    "print('AVG:', np.mean(scores))"
   ]
  },
  {
   "cell_type": "code",
   "execution_count": 21,
   "metadata": {},
   "outputs": [
    {
     "data": {
      "text/html": [
       "<div>\n",
       "<style scoped>\n",
       "    .dataframe tbody tr th:only-of-type {\n",
       "        vertical-align: middle;\n",
       "    }\n",
       "\n",
       "    .dataframe tbody tr th {\n",
       "        vertical-align: top;\n",
       "    }\n",
       "\n",
       "    .dataframe thead th {\n",
       "        text-align: right;\n",
       "    }\n",
       "</style>\n",
       "<table border=\"1\" class=\"dataframe\">\n",
       "  <thead>\n",
       "    <tr style=\"text-align: right;\">\n",
       "      <th></th>\n",
       "      <th>cv1</th>\n",
       "      <th>cv2</th>\n",
       "      <th>cv3</th>\n",
       "      <th>cv4</th>\n",
       "      <th>cv5</th>\n",
       "    </tr>\n",
       "  </thead>\n",
       "  <tbody>\n",
       "    <tr>\n",
       "      <th>MAE</th>\n",
       "      <td>0.019027</td>\n",
       "      <td>0.020238</td>\n",
       "      <td>0.012621</td>\n",
       "      <td>0.021752</td>\n",
       "      <td>0.021929</td>\n",
       "    </tr>\n",
       "  </tbody>\n",
       "</table>\n",
       "</div>"
      ],
      "text/plain": [
       "          cv1       cv2       cv3       cv4       cv5\n",
       "MAE  0.019027  0.020238  0.012621  0.021752  0.021929"
      ]
     },
     "execution_count": 21,
     "metadata": {},
     "output_type": "execute_result"
    }
   ],
   "source": [
    "# 得到具体每一次训练的详细分数\n",
    "scores = pd.DataFrame(scores.reshape(1,-1))\n",
    "scores.columns = ['cv' + str(x) for x in range(1, 6)]\n",
    "scores.index = ['MAE']\n",
    "scores"
   ]
  },
  {
   "cell_type": "markdown",
   "metadata": {},
   "source": [
    "&emsp;&emsp;可以看出，模型的MAE值稳定在0.02左右，非常小而且稳定，完全达到了准确预测的目的。"
   ]
  },
  {
   "cell_type": "markdown",
   "metadata": {},
   "source": [
    "## 六、总结与升华\n",
    "&emsp;&emsp;当然，碳排放受多种因素影响，如经济发展速度、能源生产及使用量等等。仅仅依靠时序来进行预测，在短期内可能可以有较高的准确率，但是如果要进行长期宏观的预测，还需要增加更多时序之外的特征数据。\n",
    "&emsp;&emsp;因为与碳排放相关的一些特征数据可能较为敏感，在此建议各位开源碳排放相关数据集及项目时，注意数据安全，严防敏感数据泄露。"
   ]
  },
  {
   "cell_type": "markdown",
   "metadata": {},
   "source": [
    "## 七、个人总结\n",
    "&emsp;&emsp;六一，数据挖掘爱好者，主要方向为结构化数据及时序数据的分析与挖掘。"
   ]
  },
  {
   "cell_type": "code",
   "execution_count": null,
   "metadata": {},
   "outputs": [],
   "source": []
  }
 ],
 "metadata": {
  "kernelspec": {
   "display_name": "Python 3",
   "language": "python",
   "name": "python3"
  },
  "language_info": {
   "codemirror_mode": {
    "name": "ipython",
    "version": 3
   },
   "file_extension": ".py",
   "mimetype": "text/x-python",
   "name": "python",
   "nbconvert_exporter": "python",
   "pygments_lexer": "ipython3",
   "version": "3.8.5"
  }
 },
 "nbformat": 4,
 "nbformat_minor": 1
}
